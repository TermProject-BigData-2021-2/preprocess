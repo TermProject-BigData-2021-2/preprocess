{
 "cells": [
  {
   "cell_type": "markdown",
   "id": "4547e601",
   "metadata": {},
   "source": [
    "## In Colab"
   ]
  },
  {
   "cell_type": "code",
   "execution_count": null,
   "id": "d25bf3ef",
   "metadata": {},
   "outputs": [],
   "source": [
    "# from google.colab import drive\n",
    "# drive.mount('/content/drive')"
   ]
  },
  {
   "cell_type": "markdown",
   "id": "e89b104b",
   "metadata": {},
   "source": [
    "# In Jupyter"
   ]
  },
  {
   "cell_type": "code",
   "execution_count": null,
   "id": "a0184f98",
   "metadata": {},
   "outputs": [],
   "source": [
    "fileName = './mbti_1.csv'"
   ]
  },
  {
   "cell_type": "markdown",
   "id": "6557d1b7",
   "metadata": {},
   "source": [
    "# **data 불러오기**"
   ]
  },
  {
   "cell_type": "code",
   "execution_count": null,
   "id": "5da4c7e0",
   "metadata": {},
   "outputs": [],
   "source": [
    "import pandas as pd\n",
    "import numpy as np\n",
    "import seaborn as sns\n",
    "import matplotlib.pyplot as plt\n",
    "import plotly.express as px\n",
    "from tqdm import tqdm\n",
    "import re\n",
    "import nltk \n",
    "from collections import Counter\n",
    "from sklearn.feature_extraction.text import TfidfVectorizer\n",
    "from nltk.stem import WordNetLemmatizer, PorterStemmer\n",
    "from wordcloud import WordCloud\n",
    "from nltk.corpus import stopwords \n",
    "import warnings\n",
    "warnings.filterwarnings(action='ignore')"
   ]
  },
  {
   "cell_type": "code",
   "execution_count": null,
   "id": "4c769144",
   "metadata": {},
   "outputs": [],
   "source": [
    "# 데이터 불러오기\n",
    "# data = pd.read_csv(\"drive/MyDrive/빅데이터/mbti_1.csv\")\n",
    "data = pd.read_csv(fileName)\n",
    "data.head()\n",
    "\n",
    "#타입에 따른 개수\n",
    "data['type'].value_counts()\n",
    "\n",
    "# 데이터 정보\n",
    "data.info()"
   ]
  },
  {
   "cell_type": "code",
   "execution_count": null,
   "id": "3c7186b4",
   "metadata": {},
   "outputs": [],
   "source": [
    "data.head()"
   ]
  },
  {
   "cell_type": "code",
   "execution_count": null,
   "id": "3736e20f",
   "metadata": {},
   "outputs": [],
   "source": [
    "px.pie(data,names='type',title='Personality type',hole=0.3)"
   ]
  },
  {
   "cell_type": "markdown",
   "id": "0fdd8b39",
   "metadata": {},
   "source": [
    "# **Preprocess**"
   ]
  },
  {
   "cell_type": "code",
   "execution_count": null,
   "id": "27c815d0",
   "metadata": {},
   "outputs": [],
   "source": [
    "class Lemmatizer(object):\n",
    "    def __init__(self):\n",
    "        self.lemmatizer = WordNetLemmatizer()\n",
    "    def __call__(self, sentence):\n",
    "        return [self.lemmatizer.lemmatize(word) for word in sentence.split() if len(word)>2]"
   ]
  },
  {
   "cell_type": "code",
   "execution_count": null,
   "id": "d1728104",
   "metadata": {},
   "outputs": [],
   "source": [
    "\n",
    "# 이모티콘 정의\n",
    "smiley = [';)', ':)', ':-)', '|-)', '|-D', ' :->', '\\'-)', ';->', ':*)', ';-)', 'B-)', '8-]', ':-]', 'xD', ':^D', '^^', 'XD']\n",
    "unhappy = [':(', ':-(' , ';(', ':\\'(', ':-c', ':-C', ':-<', ':-X', ':-x', ':-@', ':-&', ':-r', ':-V', ':@', '\\-o', ':-I', 'T_T']\n",
    "another = [':O', ':-o', '8-O', '8-|', ':-T', ':/', ':P', ':-p', ':3', '8-|', ':-\\\\', ':~/']\n",
    "imoticon = smiley + unhappy + another\n",
    "\n",
    "#이미지 정의\n",
    "basic = ['.jpg', '.jpeg', '.png', '.bmp', '.gif', '.svg', '.ai', '.psd', '.tiff']\n",
    "more = ['.mp4', '.cr2', '.srw', '.nrw', '.tga']\n",
    "image = basic + more\n",
    "\n",
    "#필요한 배열\n",
    "exclamation_count_column = []\n",
    "mbti_count_column = []\n",
    "clean = []\n",
    "imo_count = []\n",
    "img_count = []\n",
    "final = []\n",
    "\n",
    "#stop word\n",
    "cachedStopWords = stopwords.words(\"english\")\n",
    "\n",
    "#lemmatizer\n",
    "lemmatizer = WordNetLemmatizer()\n",
    "\n",
    "# 데이터 정제 \n",
    "for sentence in tqdm(data.posts):\n",
    "\n",
    "    # 느낌표 개수 column\n",
    "    exclamation_count = sentence.count(\"!\")\n",
    "    exclamation_count_column.append(exclamation_count)\n",
    "\n",
    "    # mbti라는 단어의 개수\n",
    "    sentence_lower = sentence.lower()\n",
    "    mbti_count = sum(x in {'mbti',\"estj\",\"estp\",\"esfj\",\"esfp\",\"entp\",\"entj\",\"enfp\",\"enfj\",\"istj\",\"istp\",\"isfj\",\"isfp\",\"intp\",\"intj\",\"infp\",\"infj\"} for x in nltk.wordpunct_tokenize(sentence_lower))\n",
    "    mbti_count_column.append(mbti_count)\n",
    "\n",
    "    # 이모티콘 개수\n",
    "    sentence_simple_html = re.sub('(http|ftp|https|uhttp|$uhttp)://', 'URL', sentence)\n",
    "    num =0\n",
    "    for i in imoticon:\n",
    "        num += sentence_simple_html.count(i)\n",
    "    imo_count.append(num)\n",
    "\n",
    "    # 이미지 개수\n",
    "    text = sentence_simple_html.split('|||')\n",
    "    text = ' '.join(text)\n",
    "    text = text.split(' ')\n",
    "    onlyURL = []\n",
    "    for item in text:\n",
    "        if 'URL' in item:\n",
    "            onlyURL.append(item)\n",
    "    num = 0\n",
    "    for url in onlyURL:\n",
    "        for tname in image:\n",
    "            if tname in url[-5:]:\n",
    "                num += 1\n",
    "                break\n",
    "    img_count.append(num)\n",
    "\n",
    "    # 소문자 치환\n",
    "    sentence = sentence.lower()\n",
    "    # 마지막에 http 없애기\n",
    "    sentence = re.sub('https?://[^\\s<>\"]+|www\\.[^\\s<>\"]+',' ',sentence)\n",
    "    # 특수문자, 숫자 모두 제거\n",
    "    sentence = re.sub('[^a-z]',' ',sentence)\n",
    "    #stop word 제거\n",
    "    #sentence = \" \".join([lemmatizer.lemmatize(w) for w in sentence.split(' ') if w not in cachedStopWords])\n",
    "    # 앞뒤 자르기\n",
    "    sentence = sentence.strip()\n",
    "    # 공백 여러개면 하나로 줄이기\n",
    "    sentence = ' '.join(sentence.split())\n",
    "\n",
    "\n",
    "    clean.append(sentence)\n",
    "\n"
   ]
  },
  {
   "cell_type": "markdown",
   "id": "e93bcbc4",
   "metadata": {},
   "source": [
    "# **최종 데이터 Format**\n",
    "\n",
    "final : [post 내용 , 이미지 개수 , 이모티콘 개수 , 느낌표 개수 , MBTI 개수(MBTI + 유형)]"
   ]
  },
  {
   "cell_type": "code",
   "execution_count": null,
   "id": "6eca8b51",
   "metadata": {},
   "outputs": [],
   "source": [
    "vectorizer=TfidfVectorizer( max_features=5000,stop_words='english',tokenizer=Lemmatizer())\n",
    "vectorizer.fit(clean)"
   ]
  },
  {
   "cell_type": "code",
   "execution_count": null,
   "id": "41956a39",
   "metadata": {},
   "outputs": [],
   "source": [
    "X = vectorizer.fit_transform(clean)"
   ]
  },
  {
   "cell_type": "code",
   "execution_count": null,
   "id": "11b81725",
   "metadata": {},
   "outputs": [],
   "source": [
    "maybe = X.toarray()"
   ]
  },
  {
   "cell_type": "code",
   "execution_count": null,
   "id": "f174c09d",
   "metadata": {},
   "outputs": [],
   "source": [
    "final = list(zip(maybe, img_count, imo_count, exclamation_count_column, mbti_count_column))\n",
    "print(final[0])"
   ]
  },
  {
   "cell_type": "code",
   "execution_count": null,
   "id": "ca31a17c",
   "metadata": {},
   "outputs": [],
   "source": [
    "clean"
   ]
  },
  {
   "cell_type": "markdown",
   "id": "757ece8c",
   "metadata": {},
   "source": [
    "------------------"
   ]
  },
  {
   "cell_type": "markdown",
   "id": "8adc32ec",
   "metadata": {},
   "source": [
    "# Visualization"
   ]
  },
  {
   "cell_type": "code",
   "execution_count": null,
   "id": "82dbad17",
   "metadata": {},
   "outputs": [],
   "source": [
    "# 데이터 불러오기\n",
    "data = pd.read_csv(fileName)\n",
    "data.head()"
   ]
  },
  {
   "cell_type": "code",
   "execution_count": null,
   "id": "df92e628",
   "metadata": {},
   "outputs": [],
   "source": [
    "#타입에 따른 개수\n",
    "data['type'].value_counts()"
   ]
  },
  {
   "cell_type": "code",
   "execution_count": null,
   "id": "af8d03d4",
   "metadata": {},
   "outputs": [],
   "source": [
    "# 데이터 정보\n",
    "data.info()"
   ]
  },
  {
   "cell_type": "markdown",
   "id": "d01e5ea0",
   "metadata": {},
   "source": [
    "------------------"
   ]
  },
  {
   "cell_type": "markdown",
   "id": "b603715a",
   "metadata": {},
   "source": [
    "# #1 words_per_comment"
   ]
  },
  {
   "cell_type": "code",
   "execution_count": null,
   "id": "730e8d56",
   "metadata": {},
   "outputs": [],
   "source": [
    "d = data\n",
    "def var_row(row):\n",
    "    l = []\n",
    "    for i in row.split('|||'):\n",
    "        l.append(len(i.split()))\n",
    "    return np.var(l)\n",
    "d['words_per_comment'] = d['posts'].apply(lambda x: len(x.split())/50)\n",
    "d['variance_of_word_counts'] = d['posts'].apply(lambda x: var_row(x))\n",
    "\n",
    "d.head()"
   ]
  },
  {
   "cell_type": "code",
   "execution_count": null,
   "id": "a4aaa616",
   "metadata": {},
   "outputs": [],
   "source": [
    "plt.figure(figsize=(15,10))\n",
    "sns.swarmplot(\"type\", \"words_per_comment\", data=data)"
   ]
  },
  {
   "cell_type": "markdown",
   "id": "5b292151",
   "metadata": {},
   "source": [
    "## 전처리한 데이터를 기준으로 words per comment : 말이 긴가 짧은가 -> 구분선 없어서 불가"
   ]
  },
  {
   "cell_type": "code",
   "execution_count": null,
   "id": "e3762d6e",
   "metadata": {},
   "outputs": [],
   "source": [
    "mylen = np.vectorize(len)\n",
    "clean_len = mylen(clean)\n",
    "clean_len/50"
   ]
  },
  {
   "cell_type": "code",
   "execution_count": null,
   "id": "2fe2a145",
   "metadata": {},
   "outputs": [],
   "source": [
    "data = pd.read_csv(fileName)\n",
    "# def var_row(row):\n",
    "#     l = []\n",
    "#     for i in row.split('|||'):\n",
    "#         l.append(len(i.split()))\n",
    "#     return np.var(l)\n",
    "data['words_per_comment'] = clean_len/50\n",
    "data['variance_of_word_counts'] = data['posts'].apply(lambda x: var_row(x))\n",
    "data['posts'] = clean\n",
    "\n",
    "data.head()"
   ]
  },
  {
   "cell_type": "code",
   "execution_count": null,
   "id": "62e7cf66",
   "metadata": {},
   "outputs": [],
   "source": [
    "plt.figure(figsize=(15,10))\n",
    "sns.swarmplot(\"type\", \"words_per_comment\", data=data)"
   ]
  },
  {
   "cell_type": "markdown",
   "id": "a28923f1",
   "metadata": {},
   "source": [
    "## 유형별 이미지 올리는 빈도"
   ]
  },
  {
   "cell_type": "code",
   "execution_count": null,
   "id": "d747855e",
   "metadata": {},
   "outputs": [],
   "source": [
    "data = pd.read_csv(fileName)\n",
    "new_img_count = [i/50 for i in img_count]\n",
    "new_imo_count = [i/50 for i in imo_count]"
   ]
  },
  {
   "cell_type": "code",
   "execution_count": null,
   "id": "001acb82",
   "metadata": {},
   "outputs": [],
   "source": [
    "data['words_per_comment'] = clean_len/50\n",
    "data['variance_of_word_counts'] = data['posts'].apply(lambda x: var_row(x))\n",
    "data['clean'] = clean\n",
    "data['img_count'] = new_img_count\n",
    "data['imo_count'] = new_imo_count\n",
    "#data['img_count'] = img_count"
   ]
  },
  {
   "cell_type": "code",
   "execution_count": null,
   "id": "cead7ec1",
   "metadata": {},
   "outputs": [],
   "source": [
    "data.head()"
   ]
  },
  {
   "cell_type": "markdown",
   "id": "bbb2f228",
   "metadata": {},
   "source": [
    "-----------"
   ]
  },
  {
   "cell_type": "markdown",
   "id": "f4cd4bcc",
   "metadata": {},
   "source": [
    "# #3"
   ]
  },
  {
   "cell_type": "code",
   "execution_count": null,
   "id": "7d42749a",
   "metadata": {},
   "outputs": [],
   "source": [
    "plt.figure(figsize=(15,10))\n",
    "sns.jointplot(\"variance_of_word_counts\", \"words_per_comment\", data=data, kind=\"hex\")"
   ]
  },
  {
   "cell_type": "code",
   "execution_count": null,
   "id": "886defbe",
   "metadata": {},
   "outputs": [],
   "source": [
    "df_2 = data[~data['type'].isin(['ESFJ','ESFP','ESTJ','ESTP'])]\n",
    "df_2['http_per_comment'] = df_2['posts'].apply(lambda x: x.count('http')/50)\n",
    "df_2['qm_per_comment'] = df_2['posts'].apply(lambda x: x.count('?')/50)\n",
    "df_2.head()"
   ]
  },
  {
   "cell_type": "code",
   "execution_count": null,
   "id": "620967f6",
   "metadata": {},
   "outputs": [],
   "source": [
    "data['http_per_comment'] = data['posts'].apply(lambda x: x.count('http')/50)\n",
    "data['qm_per_comment'] = data['posts'].apply(lambda x: x.count('?')/50)\n",
    "data['hm_per_comment'] = data['posts'].apply(lambda x: x.count('!')/50)\n",
    "data.head()"
   ]
  },
  {
   "cell_type": "markdown",
   "id": "58c1fa94",
   "metadata": {},
   "source": [
    "--------------------"
   ]
  },
  {
   "cell_type": "markdown",
   "id": "d5e14a6e",
   "metadata": {},
   "source": [
    "## 차례로 image, http, ?, ! 개수에 대한 출력"
   ]
  },
  {
   "cell_type": "markdown",
   "id": "7b670944",
   "metadata": {},
   "source": [
    "#### 이미지"
   ]
  },
  {
   "cell_type": "code",
   "execution_count": null,
   "id": "8afec499",
   "metadata": {},
   "outputs": [],
   "source": [
    "# print(df_2.groupby('type').agg({'img_count': 'mean'}))\n",
    "print(data.groupby('type').agg({'img_count': 'mean'}))"
   ]
  },
  {
   "cell_type": "code",
   "execution_count": null,
   "id": "62241aea",
   "metadata": {},
   "outputs": [],
   "source": [
    "plt.figure(figsize=(12,4))\n",
    "sns.barplot(data['type'], img_count, alpha=0.8)\n",
    "plt.show()"
   ]
  },
  {
   "cell_type": "markdown",
   "id": "9df1e0ba",
   "metadata": {},
   "source": [
    "#### http"
   ]
  },
  {
   "cell_type": "code",
   "execution_count": null,
   "id": "400154ae",
   "metadata": {},
   "outputs": [],
   "source": [
    "# print(df_2.groupby('type').agg({'http_per_comment': 'mean'}))\n",
    "print(data.groupby('type').agg({'http_per_comment': 'mean'}))"
   ]
  },
  {
   "cell_type": "code",
   "execution_count": null,
   "id": "02a903d9",
   "metadata": {},
   "outputs": [],
   "source": [
    "plt.figure(figsize=(12,4))\n",
    "sns.barplot(data['type'], data.http_per_comment, alpha=0.8)\n",
    "plt.show()"
   ]
  },
  {
   "cell_type": "markdown",
   "id": "89c3d9b9",
   "metadata": {},
   "source": [
    "#### 물음표"
   ]
  },
  {
   "cell_type": "code",
   "execution_count": null,
   "id": "6470d60c",
   "metadata": {},
   "outputs": [],
   "source": [
    "# print(df_2.groupby('type').agg({'qm_per_comment': 'mean'}))\n",
    "print(data.groupby('type').agg({'qm_per_comment': 'mean'}))"
   ]
  },
  {
   "cell_type": "code",
   "execution_count": null,
   "id": "5b5c8297",
   "metadata": {},
   "outputs": [],
   "source": [
    "plt.figure(figsize=(12,4))\n",
    "sns.barplot(data['type'], data.qm_per_comment, alpha=0.8)\n",
    "plt.show()"
   ]
  },
  {
   "cell_type": "markdown",
   "id": "7a43812f",
   "metadata": {},
   "source": [
    "#### 느낌표"
   ]
  },
  {
   "cell_type": "code",
   "execution_count": null,
   "id": "39801bfd",
   "metadata": {},
   "outputs": [],
   "source": [
    "print(data.groupby('type').agg({'hm_per_comment': 'mean'}))"
   ]
  },
  {
   "cell_type": "code",
   "execution_count": null,
   "id": "e2cd61dd",
   "metadata": {},
   "outputs": [],
   "source": [
    "plt.figure(figsize=(12,4))\n",
    "sns.barplot(data['type'], data.hm_per_comment, alpha=0.8)\n",
    "plt.show()"
   ]
  },
  {
   "cell_type": "markdown",
   "id": "8dae2738",
   "metadata": {},
   "source": [
    "#### 이모티콘"
   ]
  },
  {
   "cell_type": "code",
   "execution_count": null,
   "id": "cc253d6e",
   "metadata": {},
   "outputs": [],
   "source": [
    "print(data.groupby('type').agg({'imo_count': 'mean'}))"
   ]
  },
  {
   "cell_type": "code",
   "execution_count": null,
   "id": "43c88569",
   "metadata": {},
   "outputs": [],
   "source": [
    "plt.figure(figsize=(12,4))\n",
    "sns.barplot(data['type'], imo_count, alpha=0.8)\n",
    "plt.show()"
   ]
  },
  {
   "cell_type": "markdown",
   "id": "616daec2",
   "metadata": {},
   "source": [
    "-----------------------"
   ]
  },
  {
   "cell_type": "code",
   "execution_count": null,
   "id": "66357d08",
   "metadata": {},
   "outputs": [],
   "source": [
    "def plot_jointplot(mbti_type, axs, titles):\n",
    "    df_3 = data[data['type'] == mbti_type]\n",
    "    sns.jointplot(\"variance_of_word_counts\", \"words_per_comment\", data=df_3, kind=\"hex\", ax = axs, title = titles)\n",
    "    \n",
    "i = df_2['type'].unique()\n",
    "k = 0\n",
    "for m in range(0,2):\n",
    "    for n in range(0,6):\n",
    "        df_3 = data[data['type'] == i[k]]\n",
    "        #sns.jointplot(\"variance_of_word_counts\", \"words_per_comment\", data=df_3, kind=\"hex\")\n",
    "        plt.title(i[k])\n",
    "        k+=1"
   ]
  },
  {
   "cell_type": "markdown",
   "id": "d40c0373",
   "metadata": {},
   "source": [
    "# #8"
   ]
  },
  {
   "cell_type": "markdown",
   "id": "5fbfa977",
   "metadata": {},
   "source": [
    "## MBTI 4개 요소에 대해 0/1로 구분\n",
    "##### Using the above code, if a person has I, N, T and J, the value across the 4 axis of MBTI i.e. IE, NS, TF and JP respectively, will be 1. Else 0."
   ]
  },
  {
   "cell_type": "code",
   "execution_count": null,
   "id": "c04db2e1",
   "metadata": {},
   "outputs": [],
   "source": [
    "def get_types(row):\n",
    "    t=row['type']\n",
    "\n",
    "    I = 0; N = 0\n",
    "    T = 0; J = 0\n",
    "    \n",
    "    if t[0] == 'I': I = 1\n",
    "    elif t[0] == 'E': I = 0\n",
    "    else: print('I-E not found') \n",
    "        \n",
    "    if t[1] == 'N': N = 1\n",
    "    elif t[1] == 'S': N = 0\n",
    "    else: print('N-S not found')\n",
    "        \n",
    "    if t[2] == 'T': T = 1\n",
    "    elif t[2] == 'F': T = 0\n",
    "    else: print('T-F not found')\n",
    "        \n",
    "    if t[3] == 'J': J = 1\n",
    "    elif t[3] == 'P': J = 0\n",
    "    else: print('J-P not found')\n",
    "    return pd.Series( {'IE':I, 'NS':N , 'TF': T, 'JP': J }) \n",
    "\n",
    "d_new = data.join(data.apply (lambda row: get_types (row),axis=1))\n",
    "d_new.head(5)"
   ]
  },
  {
   "cell_type": "markdown",
   "id": "471cc2c6",
   "metadata": {},
   "source": [
    "##### This will help us calculate for e.g. how many Introvert posts are present v/s how many Extrovert posts are presnt, out of all the given entries in our labelled Kaggle dataset. This is done in order to extplore the dataset for all the individual Personality Indices of MBTI"
   ]
  },
  {
   "cell_type": "markdown",
   "id": "78f3f0e3",
   "metadata": {},
   "source": [
    "## Counting No. of posts in one class / Total no. of posts in the other class"
   ]
  },
  {
   "cell_type": "code",
   "execution_count": null,
   "id": "2986e3a6",
   "metadata": {},
   "outputs": [],
   "source": [
    "print (\"Introversion (I) /  Extroversion (E):\\t\", d_new['IE'].value_counts()[0], \" / \", d_new['IE'].value_counts()[1])\n",
    "print (\"Intuition (N) / Sensing (S):\\t\\t\", d_new['NS'].value_counts()[0], \" / \", d_new['NS'].value_counts()[1])\n",
    "print (\"Thinking (T) / Feeling (F):\\t\\t\", d_new['TF'].value_counts()[0], \" / \", d_new['TF'].value_counts()[1])\n",
    "print (\"Judging (J) / Perceiving (P):\\t\\t\", d_new['JP'].value_counts()[0], \" / \", d_new['JP'].value_counts()[1])"
   ]
  },
  {
   "cell_type": "markdown",
   "id": "f016e32f",
   "metadata": {},
   "source": [
    "##### We infer that there is unequal distribution even among each of the 4 axis in the entries of out dataset.\n",
    "i.e. out of IE:E is the majority, in NS:S is the majority. While TF and JP have realtively less differnce between them."
   ]
  },
  {
   "cell_type": "code",
   "execution_count": null,
   "id": "b72956ee",
   "metadata": {},
   "outputs": [],
   "source": [
    "#Plotting the distribution of each personality type indicator\n",
    "N = 4\n",
    "bottom = (d_new['IE'].value_counts()[0], d_new['NS'].value_counts()[0], d_new['TF'].value_counts()[0], d_new['JP'].value_counts()[0])\n",
    "top = (d_new['IE'].value_counts()[1], d_new['NS'].value_counts()[1], d_new['TF'].value_counts()[1], d_new['JP'].value_counts()[1])\n",
    "\n",
    "ind = np.arange(N)    # the x locations for the groups\n",
    "# the width of the bars\n",
    "width = 0.7           # or len(x) can also be used here\n",
    "\n",
    "p1 = plt.bar(ind, bottom, width, label=\"I, N, T, F\")\n",
    "p2 = plt.bar(ind, top, width, bottom=bottom, label=\"E, S, F, P\") \n",
    "\n",
    "plt.title('Distribution accoss types indicators')\n",
    "plt.ylabel('Count')\n",
    "plt.xticks(ind, ('I / E',  'N / S', 'T / F', 'J / P',))\n",
    "plt.legend()\n",
    "\n",
    "plt.show()"
   ]
  },
  {
   "cell_type": "markdown",
   "id": "31eefe09",
   "metadata": {},
   "source": [
    "## Features Correlation Analysis"
   ]
  },
  {
   "cell_type": "code",
   "execution_count": null,
   "id": "50c2bea0",
   "metadata": {},
   "outputs": [],
   "source": [
    "d_new[['IE','NS','TF','JP']].corr()"
   ]
  },
  {
   "cell_type": "markdown",
   "id": "29bdc5eb",
   "metadata": {},
   "source": [
    "##### It is unclear if the matrix shows anything valuable for interpretation\n",
    "### An assumption made in our model is that each letter type is independent of other types\n",
    "i.e. A person’s introversion/extroversion is not related to their judgement/perception. Nevertheless, we want to still test them below using a heat map"
   ]
  },
  {
   "cell_type": "code",
   "execution_count": null,
   "id": "9de7a4ef",
   "metadata": {},
   "outputs": [],
   "source": [
    "cmap = plt.cm.RdBu\n",
    "corr = d_new[['IE','NS','TF','JP']].corr()\n",
    "plt.figure(figsize=(12,10))\n",
    "plt.title('Features Correlation Heatmap', size=15)\n",
    "sns.heatmap(corr, cmap=cmap,  annot=True, linewidths=1)"
   ]
  },
  {
   "cell_type": "markdown",
   "id": "ab7a39c4",
   "metadata": {},
   "source": [
    "From this heatmap also, it is unclear if it shows anything valuable for interpretation"
   ]
  },
  {
   "cell_type": "markdown",
   "id": "4611018f",
   "metadata": {},
   "source": [
    "------------------"
   ]
  },
  {
   "cell_type": "markdown",
   "id": "f75493a9",
   "metadata": {},
   "source": [
    "# #13"
   ]
  },
  {
   "cell_type": "markdown",
   "id": "28daccf9",
   "metadata": {},
   "source": [
    "##### The 2 histogram plots represent Gaussian distribution of a sample space,\n",
    "##### Comprises of no. of words per comment and associated variance of word counts from our dataset.\n"
   ]
  },
  {
   "cell_type": "markdown",
   "id": "85f33308",
   "metadata": {},
   "source": [
    "### (1) 3번과 거의 동일한 그래프"
   ]
  },
  {
   "cell_type": "code",
   "execution_count": null,
   "id": "cabfd7f9",
   "metadata": {},
   "outputs": [],
   "source": [
    "plt.figure(figsize=(30,25))\n",
    "sns.set(style=\"white\", color_codes=True) # suitable theme for jointplot\n",
    "sns.jointplot(\"variance_of_word_counts\", \"words_per_comment\", data=data, alpha=0.7)\n",
    "plt.show()"
   ]
  },
  {
   "cell_type": "markdown",
   "id": "8efcd175",
   "metadata": {},
   "source": [
    "##### In the hexagonal plot, the hexagon with most number of points gets darker color.\n",
    "##### Most of the posts have words between 100 and 150 and most of no. of words per comment by a user is between 25-30."
   ]
  },
  {
   "cell_type": "markdown",
   "id": "719e0ef9",
   "metadata": {},
   "source": [
    "### (2) "
   ]
  },
  {
   "cell_type": "code",
   "execution_count": null,
   "id": "ad8e5460",
   "metadata": {},
   "outputs": [],
   "source": [
    "fig = px.density_heatmap(data, x=\"variance_of_word_counts\", y=\"words_per_comment\", marginal_x=\"box\", marginal_y=\"violin\")\n",
    "fig.show()"
   ]
  },
  {
   "cell_type": "markdown",
   "id": "40bfd6bd",
   "metadata": {},
   "source": [
    "##### There is no correlation observed between variance of word count and the words per comment.\n",
    "##### There is a strong relationship when there are 25-30 words per comment & the variance of word counts is 100-150"
   ]
  },
  {
   "cell_type": "markdown",
   "id": "db9274a3",
   "metadata": {},
   "source": [
    "----------------"
   ]
  },
  {
   "cell_type": "markdown",
   "id": "53389fe0",
   "metadata": {},
   "source": [
    "# 덤"
   ]
  },
  {
   "cell_type": "markdown",
   "id": "c41e5ad8",
   "metadata": {},
   "source": [
    "## Total post type of personality type"
   ]
  },
  {
   "cell_type": "code",
   "execution_count": null,
   "id": "9132305f",
   "metadata": {},
   "outputs": [],
   "source": [
    "import  plotly.express  as px\n",
    "fig = px.histogram(data, x=\"type\",y=\"posts\",histfunc = \"count\",\n",
    "                   title='Total posts for each personality type',\n",
    "                   labels={'ptype':'Personality types','posts':'No. of posts available'}, # can specify one label per df column\n",
    "                   opacity=0.8,\n",
    "                   #color_discrete_sequence=px.colors.sequential.deep # color of histogram bars\n",
    "                   color_discrete_sequence=['navy']\n",
    "                   )\n",
    "fig.show()"
   ]
  },
  {
   "cell_type": "markdown",
   "id": "b8105102",
   "metadata": {},
   "source": [
    "## 위랑 같은건데 저~ 위의거랑 통일성 겸"
   ]
  },
  {
   "cell_type": "code",
   "execution_count": null,
   "id": "206a90d0",
   "metadata": {},
   "outputs": [],
   "source": [
    "plt.figure(figsize=(12,4))\n",
    "sns.countplot(data['type'],data = data, alpha=0.8)\n",
    "plt.show()"
   ]
  },
  {
   "cell_type": "code",
   "execution_count": null,
   "id": "550eb95f",
   "metadata": {},
   "outputs": [],
   "source": []
  }
 ],
 "metadata": {
  "kernelspec": {
   "display_name": "Python 3 (ipykernel)",
   "language": "python",
   "name": "python3"
  },
  "language_info": {
   "codemirror_mode": {
    "name": "ipython",
    "version": 3
   },
   "file_extension": ".py",
   "mimetype": "text/x-python",
   "name": "python",
   "nbconvert_exporter": "python",
   "pygments_lexer": "ipython3",
   "version": "3.8.12"
  }
 },
 "nbformat": 4,
 "nbformat_minor": 5
}
